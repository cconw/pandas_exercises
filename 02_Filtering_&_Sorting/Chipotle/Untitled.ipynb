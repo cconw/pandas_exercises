{
 "cells": [
  {
   "cell_type": "code",
   "execution_count": null,
   "metadata": {
    "collapsed": true
   },
   "outputs": [],
   "source": [
    "import pandas as pd\n",
    "import numpy as np\n",
    "\n",
    "chipo = pd.read_csv('https://raw.githubusercontent.com/justmarkham/DAT8/master/data/chipotle.tsv', sep = '\\t')\n",
    "\n",
    "#clean variable \n",
    "chipo['itprice'] = chipo['item_price'].str.replace(\"$\", \"\")\n",
    "del chipo['item_price']\n",
    "\n",
    "chipping2 = chipo[chipo['quantity'] ==1]\n",
    "\n",
    "chipping = chipo.pivot_table(index = 'item_name', columns = 'itprice', values = 'quantity', aggfunc = 'count')\n",
    "chipping.head(25)\n",
    "\n"
   ]
  }
 ],
 "metadata": {
  "kernelspec": {
   "display_name": "Python 3",
   "language": "python",
   "name": "python3"
  },
  "language_info": {
   "codemirror_mode": {
    "name": "ipython",
    "version": 3
   },
   "file_extension": ".py",
   "mimetype": "text/x-python",
   "name": "python",
   "nbconvert_exporter": "python",
   "pygments_lexer": "ipython3",
   "version": "3.6.1"
  }
 },
 "nbformat": 4,
 "nbformat_minor": 2
}
